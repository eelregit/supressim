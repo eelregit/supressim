{
 "cells": [
  {
   "cell_type": "code",
   "execution_count": 24,
   "metadata": {},
   "outputs": [],
   "source": [
    "import numpy as np\n",
    "from bigfile import File, Dataset\n",
    "\n",
    "np.set_printoptions(linewidth=120)"
   ]
  },
  {
   "cell_type": "code",
   "execution_count": 221,
   "metadata": {},
   "outputs": [
    {
     "name": "stdout",
     "output_type": "stream",
     "text": [
      "z = 6.999999999999998\n",
      "BoxSize = 50000.0\n",
      "Ngrid = 440\n"
     ]
    }
   ],
   "source": [
    "# modified base on `%load read_dmo.py`\n",
    "\n",
    "# list all the quantities\n",
    "dm_quantity = ['1/GroupID','1/ID','1/Mass','1/Position','1/Velocity']\n",
    "\n",
    "fof_quantity = ['FOFGroups/FirstPos','FOFGroups/GroupID','FOFGroups/Imom','FOFGroups/Jmom',\n",
    "                'FOFGroups/LengthByType','FOFGroups/Mass','FOFGroups/MassByType',\n",
    "                'FOFGroups/MassCenterPosition','FOFGroups/MassCenterVelocity','FOFGroups/MinID']\n",
    "\n",
    "snapshot = \"/scratch1/06431/yueyingn/dmo-50MPC-fixvel/low-resl/set0/output/PART_004\"\n",
    "pig = File(snapshot)\n",
    "\n",
    "# redshift\n",
    "header = pig.open('Header')\n",
    "redshift = 1. / header.attrs['Time'][0] - 1\n",
    "boxsize = header.attrs['BoxSize'][0]\n",
    "Ng = header.attrs['TotNumPart'][1] ** (1/3)\n",
    "Ng = int(np.rint(Ng))\n",
    "print(\"z =\", redshift)\n",
    "print(\"BoxSize =\", boxsize)\n",
    "print(\"Ngrid =\", Ng)\n",
    "\n",
    "# Particle information:\n",
    "#DM_id = pig.open('1/ID')[:] - 1\n",
    "#DM_pos = pig.open('1/Position')[:]  # in kpc\n",
    "#DM_vel = pig.open('1/Velocity')[:]\n",
    "\n",
    "DM = Dataset(pig[\"1/\"], [\"ID\", \"Position\", \"Velocity\"])"
   ]
  },
  {
   "cell_type": "code",
   "execution_count": 280,
   "metadata": {},
   "outputs": [],
   "source": [
    "def pid2subgrid(pid, Ng, sim):\n",
    "    if Ng == 880:\n",
    "        hl = \"high\"\n",
    "    elif Ng == 440:\n",
    "        hl = \"low\"\n",
    "    else:\n",
    "        raise\n",
    "    outpath = f\"/scratch1/06589/yinli/dmo-50MPC-fixvel/{hl}-resl/set{sim}/output/PART_004/\"\n",
    "    \n",
    "    Nsg = Ng // 5\n",
    "    offset = Nsg // 2\n",
    "    pid -= 1\n",
    "    ii, jj, kk = pid // Ng**2, pid // Ng % Ng, pid % Ng\n",
    "    I, i = ii // offset, ii % offset\n",
    "    J, j = jj // offset, jj % offset\n",
    "    K, k = kk // offset, kk % offset\n",
    "    print(f\"I, i = {I}, {i} ({ii}); J, j = {J}, {j} ({jj}); K, k = {K}, {k} ({kk})\")\n",
    "    print(f\"First check box {I}{J}{K} at ({i}, {j}, {k})\")\n",
    "    print(np.load(outpath + f\"{I}{J}{K}.npy\")[i, j, k])\n",
    "    print(\"Then there are 7 images which should work fine...\")\n",
    "    \n",
    "    return ii, jj, kk\n",
    "\n",
    "def rank2sg(r, Ng, sim, boxsize=50000):\n",
    "    if Ng == 880:\n",
    "        hl = \"high\"\n",
    "    elif Ng == 440:\n",
    "        hl = \"low\"\n",
    "    else:\n",
    "        raise\n",
    "    inpath = f\"/scratch1/06431/yueyingn/dmo-50MPC-fixvel/{hl}-resl/set{sim}/output/PART_004/\"\n",
    "    f = File(inpath)\n",
    "    DM = Dataset(f[\"1/\"], [\"ID\", \"Position\", \"Velocity\"])\n",
    "    print(DM[r])\n",
    "    print(\"--------\")\n",
    "    ii, jj, kk = pid2subgrid(int(DM[r][0]), Ng, sim)\n",
    "    cellsize = boxsize / Ng\n",
    "    print(\"--------\")\n",
    "    print(DM[r][1] - cellsize * np.array([ii, jj, kk]))"
   ]
  },
  {
   "cell_type": "code",
   "execution_count": 281,
   "metadata": {},
   "outputs": [
    {
     "name": "stdout",
     "output_type": "stream",
     "text": [
      "(44074768, [25459.79766898, 32947.13720051, 45351.03014262], [ -7.0623536,   1.9144222, -15.952523 ])\n",
      "--------\n",
      "I, i = 5, 7 (227); J, j = 6, 25 (289); K, k = 9, 11 (407)\n",
      "First check box 569 at (7, 25, 11)\n",
      "[-335.6569     106.22811   -898.96985     -7.0623536    1.9144222  -15.952523 ]\n",
      "Then there are 7 images which should work fine...\n",
      "--------\n",
      "[-335.65687648  106.2281096  -898.96985738]\n"
     ]
    }
   ],
   "source": [
    "Ng = 440\n",
    "r = np.random.choice(Ng**3)\n",
    "sim = np.random.choice(5)\n",
    "rank2sg(r, Ng, sim)\n",
    "del Ng, sim"
   ]
  },
  {
   "cell_type": "code",
   "execution_count": null,
   "metadata": {},
   "outputs": [],
   "source": []
  }
 ],
 "metadata": {
  "kernelspec": {
   "display_name": "Python 3",
   "language": "python",
   "name": "python3"
  },
  "language_info": {
   "codemirror_mode": {
    "name": "ipython",
    "version": 3
   },
   "file_extension": ".py",
   "mimetype": "text/x-python",
   "name": "python",
   "nbconvert_exporter": "python",
   "pygments_lexer": "ipython3",
   "version": "3.7.3"
  }
 },
 "nbformat": 4,
 "nbformat_minor": 2
}
